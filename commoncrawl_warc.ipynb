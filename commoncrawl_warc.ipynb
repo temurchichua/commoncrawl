{
 "nbformat": 4,
 "nbformat_minor": 0,
 "metadata": {
  "colab": {
   "name": "commoncrawl-warc-6",
   "provenance": [],
   "collapsed_sections": []
  },
  "kernelspec": {
   "name": "python3",
   "display_name": "Python 3"
  }
 },
 "cells": [
  {
   "cell_type": "code",
   "metadata": {
    "id": "73Pu2kI1ygou",
    "colab": {
     "base_uri": "https://localhost:8080/"
    },
    "outputId": "b086e87e-e5d6-4119-dd30-0539c100fc1a"
   },
   "source": [
    "!git clone https://github.com/DatoJanez/commoncrawl.git  > /dev/null\n",
    "!apt install lynx  > /dev/null\n",
    "!pip install warcio  > /dev/null\n",
    "!pip install argparse > /dev/null\n",
    "\n",
    "!python ./commoncrawl/collect.py --runner_id 6"
   ],
   "execution_count": null,
   "outputs": [
    {
     "output_type": "stream",
     "text": [
      "Cloning into 'commoncrawl'...\n",
      "remote: Enumerating objects: 69, done.\u001B[K\n",
      "remote: Counting objects: 100% (69/69), done.\u001B[K\n",
      "remote: Compressing objects: 100% (69/69), done.\u001B[K\n",
      "remote: Total 69 (delta 39), reused 0 (delta 0), pack-reused 0\u001B[K\n",
      "Unpacking objects: 100% (69/69), done.\n",
      "\n",
      "WARNING: apt does not have a stable CLI interface. Use with caution in scripts.\n",
      "\n",
      "batch_name: hye-2019-26-050 starting from 168000 of 312087\n",
      "171000 / 312087      54.0 / 2593.57\n",
      "Saving to cloud... 171000 171000\n",
      "174000 / 312087      102.87 / 2470.29\n",
      "Saving to cloud... 174000 174000\n",
      "177000 / 312087      161.78 / 2590.1\n",
      "Saving to cloud... 177000 177000\n",
      "180000 / 312087      225.9 / 2712.44\n",
      "Saving to cloud... 180000 180000\n",
      "183000 / 312087      276.12 / 2652.32\n",
      "Saving to cloud... 183000 183000\n",
      "186000 / 312087      326.35 / 2612.38\n",
      "Saving to cloud... 186000 186000\n",
      "189000 / 312087      386.38 / 2651.09\n",
      "Saving to cloud... 189000 189000\n",
      "192000 / 312087      442.38 / 2655.9\n",
      "Saving to cloud... 192000 192000\n",
      "195000 / 312087      493.65 / 2634.39\n",
      "Saving to cloud... 195000 195000\n",
      "198000 / 312087      546.48 / 2624.7\n",
      "Saving to cloud... 198000 198000\n",
      "201000 / 312087      608.83 / 2658.33\n",
      "Saving to cloud... 201000 201000\n",
      "204000 / 312087      657.78 / 2632.72\n",
      "Saving to cloud... 204000 204000\n",
      "207000 / 312087      706.13 / 2608.84\n",
      "Saving to cloud... 207000 207000\n"
     ],
     "name": "stdout"
    }
   ]
  }
 ]
}